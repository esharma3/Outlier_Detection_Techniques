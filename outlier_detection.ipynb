{
 "cells": [
  {
   "cell_type": "markdown",
   "metadata": {},
   "source": [
    "## Outlier Detection Techniques"
   ]
  },
  {
   "cell_type": "code",
   "execution_count": 1,
   "metadata": {},
   "outputs": [],
   "source": [
    "# importing dependencies here\n",
    "import pandas as pd\n",
    "import numpy as np\n",
    "import os\n",
    "import matplotlib.pyplot as plt"
   ]
  },
  {
   "cell_type": "code",
   "execution_count": 2,
   "metadata": {},
   "outputs": [],
   "source": [
    "data = pd.read_csv(os.path.join(\"data\", \"datafile.csv\"))"
   ]
  },
  {
   "cell_type": "code",
   "execution_count": 3,
   "metadata": {},
   "outputs": [
    {
     "data": {
      "text/html": [
       "<div>\n",
       "<style scoped>\n",
       "    .dataframe tbody tr th:only-of-type {\n",
       "        vertical-align: middle;\n",
       "    }\n",
       "\n",
       "    .dataframe tbody tr th {\n",
       "        vertical-align: top;\n",
       "    }\n",
       "\n",
       "    .dataframe thead th {\n",
       "        text-align: right;\n",
       "    }\n",
       "</style>\n",
       "<table border=\"1\" class=\"dataframe\">\n",
       "  <thead>\n",
       "    <tr style=\"text-align: right;\">\n",
       "      <th></th>\n",
       "      <th>Species</th>\n",
       "      <th>Weight</th>\n",
       "      <th>Length1</th>\n",
       "      <th>Length2</th>\n",
       "      <th>Length3</th>\n",
       "      <th>Height</th>\n",
       "      <th>Width</th>\n",
       "    </tr>\n",
       "  </thead>\n",
       "  <tbody>\n",
       "    <tr>\n",
       "      <th>0</th>\n",
       "      <td>Bream</td>\n",
       "      <td>430.0</td>\n",
       "      <td>26.5</td>\n",
       "      <td>29.0</td>\n",
       "      <td>34.0</td>\n",
       "      <td>12.4440</td>\n",
       "      <td>5.1340</td>\n",
       "    </tr>\n",
       "    <tr>\n",
       "      <th>1</th>\n",
       "      <td>Perch</td>\n",
       "      <td>110.0</td>\n",
       "      <td>20.0</td>\n",
       "      <td>22.0</td>\n",
       "      <td>23.5</td>\n",
       "      <td>5.5225</td>\n",
       "      <td>3.9950</td>\n",
       "    </tr>\n",
       "    <tr>\n",
       "      <th>2</th>\n",
       "      <td>Roach</td>\n",
       "      <td>160.0</td>\n",
       "      <td>20.5</td>\n",
       "      <td>22.5</td>\n",
       "      <td>25.3</td>\n",
       "      <td>7.0334</td>\n",
       "      <td>3.8203</td>\n",
       "    </tr>\n",
       "    <tr>\n",
       "      <th>3</th>\n",
       "      <td>Parkki</td>\n",
       "      <td>60.0</td>\n",
       "      <td>14.3</td>\n",
       "      <td>15.5</td>\n",
       "      <td>17.4</td>\n",
       "      <td>6.5772</td>\n",
       "      <td>2.3142</td>\n",
       "    </tr>\n",
       "    <tr>\n",
       "      <th>4</th>\n",
       "      <td>Bream</td>\n",
       "      <td>700.0</td>\n",
       "      <td>30.4</td>\n",
       "      <td>33.0</td>\n",
       "      <td>38.3</td>\n",
       "      <td>14.8604</td>\n",
       "      <td>5.2854</td>\n",
       "    </tr>\n",
       "  </tbody>\n",
       "</table>\n",
       "</div>"
      ],
      "text/plain": [
       "  Species  Weight  Length1  Length2  Length3   Height   Width\n",
       "0   Bream   430.0     26.5     29.0     34.0  12.4440  5.1340\n",
       "1   Perch   110.0     20.0     22.0     23.5   5.5225  3.9950\n",
       "2   Roach   160.0     20.5     22.5     25.3   7.0334  3.8203\n",
       "3  Parkki    60.0     14.3     15.5     17.4   6.5772  2.3142\n",
       "4   Bream   700.0     30.4     33.0     38.3  14.8604  5.2854"
      ]
     },
     "execution_count": 3,
     "metadata": {},
     "output_type": "execute_result"
    }
   ],
   "source": [
    "data.head()"
   ]
  },
  {
   "cell_type": "code",
   "execution_count": 4,
   "metadata": {},
   "outputs": [
    {
     "data": {
      "text/plain": [
       "<bound method DataFrame.info of     Species  Weight  Length1  Length2  Length3   Height   Width\n",
       "0     Bream   430.0     26.5     29.0     34.0  12.4440  5.1340\n",
       "1     Perch   110.0     20.0     22.0     23.5   5.5225  3.9950\n",
       "2     Roach   160.0     20.5     22.5     25.3   7.0334  3.8203\n",
       "3    Parkki    60.0     14.3     15.5     17.4   6.5772  2.3142\n",
       "4     Bream   700.0     30.4     33.0     38.3  14.8604  5.2854\n",
       "..      ...     ...      ...      ...      ...      ...     ...\n",
       "106   Perch   197.0     23.5     25.6     27.0   6.5610  4.2390\n",
       "107  Parkki   140.0     19.0     20.7     23.2   8.5376  3.2944\n",
       "108   Roach   110.0     19.1     20.8     23.1   6.1677  3.3957\n",
       "109   Perch   685.0     34.0     36.5     39.0  10.8810  6.8640\n",
       "110   Perch   300.0     26.9     28.7     30.1   7.5852  4.6354\n",
       "\n",
       "[111 rows x 7 columns]>"
      ]
     },
     "execution_count": 4,
     "metadata": {},
     "output_type": "execute_result"
    }
   ],
   "source": [
    "data.info"
   ]
  },
  {
   "cell_type": "code",
   "execution_count": 5,
   "metadata": {},
   "outputs": [
    {
     "data": {
      "text/plain": [
       "Species     object\n",
       "Weight     float64\n",
       "Length1    float64\n",
       "Length2    float64\n",
       "Length3    float64\n",
       "Height     float64\n",
       "Width      float64\n",
       "dtype: object"
      ]
     },
     "execution_count": 5,
     "metadata": {},
     "output_type": "execute_result"
    }
   ],
   "source": [
    "data.dtypes"
   ]
  },
  {
   "cell_type": "code",
   "execution_count": 6,
   "metadata": {},
   "outputs": [],
   "source": [
    "numerical = [\"Weight\", \"Length1\", \"Length2\", \"Length3\", \"Height\", \"Width\"]"
   ]
  },
  {
   "cell_type": "markdown",
   "metadata": {},
   "source": [
    "## Interquartile Range"
   ]
  },
  {
   "cell_type": "code",
   "execution_count": 7,
   "metadata": {},
   "outputs": [
    {
     "name": "stdout",
     "output_type": "stream",
     "text": [
      "13    1550.0\n",
      "Name: Weight, dtype: float64\n",
      "13    56.0\n",
      "Name: Length1, dtype: float64\n",
      "13    60.0\n",
      "Name: Length2, dtype: float64\n",
      "Series([], Name: Length3, dtype: float64)\n",
      "Series([], Name: Height, dtype: float64)\n",
      "Series([], Name: Width, dtype: float64)\n"
     ]
    }
   ],
   "source": [
    "# for independent features\n",
    "for col in numerical:\n",
    "    df = data[col]\n",
    "    df_Q1 = df.quantile(0.25)\n",
    "    df_Q3 = df.quantile(0.75)\n",
    "    df_IQR = df_Q3 - df_Q1\n",
    "    df_lowerend = df_Q1 - (1.5 * df_IQR)\n",
    "    df_upperend = df_Q3 + (1.5 * df_IQR)\n",
    "    \n",
    "    df_outliers = df[(df < df_lowerend) | (df > df_upperend)]\n",
    "    print(df_outliers)"
   ]
  },
  {
   "cell_type": "code",
   "execution_count": 8,
   "metadata": {},
   "outputs": [
    {
     "name": "stdout",
     "output_type": "stream",
     "text": [
      "13    1550.0\n",
      "Name: Weight, dtype: float64\n"
     ]
    }
   ],
   "source": [
    "# for target variable\n",
    "df = data[\"Weight\"]\n",
    "df_Q1 = df.quantile(0.25)\n",
    "df_Q3 = df.quantile(0.75)\n",
    "df_IQR = df_Q3 - df_Q1\n",
    "df_lowerend = df_Q1 - (1.5 * df_IQR)\n",
    "df_upperend = df_Q3 + (1.5 * df_IQR)\n",
    "\n",
    "df_outliers = df[(df < df_lowerend) | (df > df_upperend)]\n",
    "print(df_outliers)"
   ]
  },
  {
   "cell_type": "markdown",
   "metadata": {},
   "source": [
    "## Z-Score"
   ]
  },
  {
   "cell_type": "code",
   "execution_count": 9,
   "metadata": {},
   "outputs": [
    {
     "name": "stdout",
     "output_type": "stream",
     "text": [
      "Weight Row Index [13], Value 1550.0\n",
      "Length1 Row Index [13], Value 56.0\n",
      "Length2 Row Index [13], Value 60.0\n"
     ]
    }
   ],
   "source": [
    "# for independent features\n",
    "threshold = 3\n",
    "for col in numerical:\n",
    "    mean = np.mean(data[col])\n",
    "    std = np.std(data[col])\n",
    "    \n",
    "    for i in data[col]:\n",
    "        z_score = (i - mean) / std\n",
    "        if np.abs(z_score) > threshold:\n",
    "            print(f\"{col} Row Index {(data[data[col]==i].index.values)}, Value {i}\")\n",
    "    "
   ]
  },
  {
   "cell_type": "code",
   "execution_count": 10,
   "metadata": {},
   "outputs": [
    {
     "name": "stdout",
     "output_type": "stream",
     "text": [
      "   Species  Weight  Length1  Length2  Length3  Height  Width\n",
      "13    Pike  1550.0     56.0     60.0     64.0     9.6  6.144\n"
     ]
    }
   ],
   "source": [
    "# for target variable\n",
    "threshold = 3\n",
    "mean = np.mean(data[\"Weight\"])\n",
    "std = np.std(data[\"Weight\"])\n",
    "\n",
    "for i in data[\"Weight\"]:\n",
    "    z_score = (i - mean) / std\n",
    "    if np.abs(z_score) > threshold:\n",
    "        print(data[data[\"Weight\"] == i])"
   ]
  },
  {
   "cell_type": "markdown",
   "metadata": {},
   "source": [
    "## DBSCAN"
   ]
  },
  {
   "cell_type": "code",
   "execution_count": 11,
   "metadata": {},
   "outputs": [],
   "source": [
    "from sklearn.neighbors import NearestNeighbors\n",
    "from sklearn.cluster import DBSCAN"
   ]
  },
  {
   "cell_type": "code",
   "execution_count": 12,
   "metadata": {},
   "outputs": [
    {
     "data": {
      "image/png": "[encoded data removed]",
      "text/plain": [
       "<Figure size 432x288 with 1 Axes>"
      ]
     },
     "metadata": {
      "needs_background": "light"
     },
     "output_type": "display_data"
    }
   ],
   "source": [
    "# for independent features\n",
    "nearest_neighbors = NearestNeighbors(n_neighbors=5)\n",
    "X = data[[\"Length1\", \"Length2\", \"Length3\", \"Height\", \"Width\"]]\n",
    "nearest_neighbors.fit(X)\n",
    "distances, indices = nearest_neighbors.kneighbors(X)\n",
    "distances = np.sort(distances, axis=0)[:, 1]\n",
    "plt.plot(distances)\n",
    "plt.show()"
   ]
  },
  {
   "cell_type": "code",
   "execution_count": 13,
   "metadata": {},
   "outputs": [
    {
     "name": "stdout",
     "output_type": "stream",
     "text": [
      "   Species  Weight  Length1  Length2  Length3   Height   Width\n",
      "13    Pike  1550.0     56.0     60.0     64.0   9.6000  6.1440\n",
      "84    Pike  1250.0     52.0     56.0     59.7  10.6863  6.9849\n",
      "   Species  Weight  Length1  Length2  Length3   Height   Width\n",
      "13    Pike  1550.0     56.0     60.0     64.0   9.6000  6.1440\n",
      "84    Pike  1250.0     52.0     56.0     59.7  10.6863  6.9849\n",
      "   Species  Weight  Length1  Length2  Length3   Height   Width\n",
      "13    Pike  1550.0     56.0     60.0     64.0   9.6000  6.1440\n",
      "84    Pike  1250.0     52.0     56.0     59.7  10.6863  6.9849\n",
      "Empty DataFrame\n",
      "Columns: [Species, Weight, Length1, Length2, Length3, Height, Width]\n",
      "Index: []\n",
      "Empty DataFrame\n",
      "Columns: [Species, Weight, Length1, Length2, Length3, Height, Width]\n",
      "Index: []\n"
     ]
    }
   ],
   "source": [
    "# for independent features\n",
    "numerical = [\"Length1\", \"Length2\", \"Length3\", \"Height\", \"Width\"]\n",
    "for col in numerical:\n",
    "    db = DBSCAN(eps=4, min_samples=4)\n",
    "    db.fit_predict(data[col].values.reshape(-1,1))\n",
    "    print(data[db.labels_==-1])\n"
   ]
  },
  {
   "cell_type": "code",
   "execution_count": 14,
   "metadata": {},
   "outputs": [
    {
     "data": {
      "image/png": "[encoded data removed]",
      "text/plain": [
       "<Figure size 432x288 with 1 Axes>"
      ]
     },
     "metadata": {
      "needs_background": "light"
     },
     "output_type": "display_data"
    }
   ],
   "source": [
    "# for target variable\n",
    "from sklearn.neighbors import NearestNeighbors\n",
    "nearest_neighbors = NearestNeighbors(n_neighbors=5)\n",
    "X = data[[\"Weight\"]]\n",
    "nearest_neighbors.fit(X)\n",
    "distances, indices = nearest_neighbors.kneighbors(X)\n",
    "distances = np.sort(distances, axis=0)[:, 1]\n",
    "plt.plot(distances)\n",
    "plt.show()"
   ]
  },
  {
   "cell_type": "code",
   "execution_count": 15,
   "metadata": {},
   "outputs": [
    {
     "name": "stdout",
     "output_type": "stream",
     "text": [
      "    Weight\n",
      "13  1550.0\n",
      "24  1100.0\n",
      "63  1100.0\n",
      "84  1250.0\n"
     ]
    }
   ],
   "source": [
    "# for target variable\n",
    "db = DBSCAN(eps=50, min_samples=5)\n",
    "X = data[[\"Weight\"]] \n",
    "db.fit_predict(X)\n",
    "print(X[db.labels_==-1])"
   ]
  },
  {
   "cell_type": "markdown",
   "metadata": {},
   "source": [
    "## Isolation Forest"
   ]
  },
  {
   "cell_type": "code",
   "execution_count": 16,
   "metadata": {},
   "outputs": [],
   "source": [
    "from sklearn.ensemble import IsolationForest"
   ]
  },
  {
   "cell_type": "code",
   "execution_count": 17,
   "metadata": {},
   "outputs": [
    {
     "name": "stdout",
     "output_type": "stream",
     "text": [
      "     Length1\n",
      "3       14.3\n",
      "8        9.3\n",
      "13      56.0\n",
      "28      10.0\n",
      "35      43.2\n",
      "36      44.8\n",
      "43      48.3\n",
      "59      42.0\n",
      "71      12.9\n",
      "84      52.0\n",
      "105      7.5\n",
      "     Length2\n",
      "3       15.5\n",
      "8        9.8\n",
      "13      60.0\n",
      "28      10.5\n",
      "35      46.0\n",
      "36      48.0\n",
      "43      51.7\n",
      "59      45.0\n",
      "71      14.1\n",
      "84      56.0\n",
      "105      8.4\n",
      "     Length3\n",
      "5       16.0\n",
      "8       10.8\n",
      "13      64.0\n",
      "28      11.6\n",
      "33      12.0\n",
      "36      51.2\n",
      "43      55.1\n",
      "49      15.2\n",
      "84      59.7\n",
      "99      13.5\n",
      "105      8.8\n",
      "      Height\n",
      "5     3.8240\n",
      "8     1.7388\n",
      "10   18.7542\n",
      "27    4.5880\n",
      "47   15.9936\n",
      "49    2.8728\n",
      "60   18.0369\n",
      "70   18.6354\n",
      "71    4.1472\n",
      "99    2.4300\n",
      "101  18.9570\n",
      "      Width\n",
      "8    1.0476\n",
      "18   1.1659\n",
      "33   1.3800\n",
      "41   8.1420\n",
      "44   7.7957\n",
      "49   2.0672\n",
      "63   7.4165\n",
      "78   1.1484\n",
      "80   7.4934\n",
      "99   1.2690\n",
      "105  1.4080\n"
     ]
    }
   ],
   "source": [
    "# for independent features\n",
    "for col in numerical:\n",
    "    clf = IsolationForest(n_estimators=30, max_samples=\"auto\", random_state=42, contamination=.1)\n",
    "    X = data[[col]]\n",
    "    y_pred = clf.fit_predict(data[col].values.reshape(-1,1))\n",
    "    print(X[y_pred == -1])"
   ]
  },
  {
   "cell_type": "code",
   "execution_count": 18,
   "metadata": {},
   "outputs": [
    {
     "name": "stdout",
     "output_type": "stream",
     "text": [
      "     Weight\n",
      "13   1550.0\n",
      "20     85.0\n",
      "24   1100.0\n",
      "36    770.0\n",
      "43    950.0\n",
      "49     19.7\n",
      "63   1100.0\n",
      "70    975.0\n",
      "84   1250.0\n",
      "99     13.4\n",
      "105     5.9\n"
     ]
    }
   ],
   "source": [
    "# for target variable\n",
    "clf = IsolationForest(n_estimators=20, max_samples=\"auto\", random_state=42, contamination=.1)\n",
    "X = data[[\"Weight\"]] \n",
    "y_pred = clf.fit_predict(X)\n",
    "print(X[y_pred == -1])"
   ]
  },
  {
   "cell_type": "code",
   "execution_count": null,
   "metadata": {},
   "outputs": [],
   "source": []
  }
 ],
 "metadata": {
  "kernelspec": {
   "display_name": "project3",
   "language": "python",
   "name": "project3"
  },
  "language_info": {
   "codemirror_mode": {
    "name": "ipython",
    "version": 3
   },
   "file_extension": ".py",
   "mimetype": "text/x-python",
   "name": "python",
   "nbconvert_exporter": "python",
   "pygments_lexer": "ipython3",
   "version": "3.7.5"
  }
 },
 "nbformat": 4,
 "nbformat_minor": 2
}
